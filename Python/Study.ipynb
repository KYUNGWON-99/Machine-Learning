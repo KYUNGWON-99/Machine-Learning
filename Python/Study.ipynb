{
 "cells": [
  {
   "cell_type": "code",
   "execution_count": 64,
   "id": "31dfe305",
   "metadata": {},
   "outputs": [],
   "source": [
    "# Starbucks 매장 별 크롤링\n",
    "\n",
    "import requests\n",
    "import pandas as pd\n",
    "from bs4 import BeautifulSoup as bs\n",
    "\n",
    "url = \"https://www.starbucks.co.kr/store/getSidoList.do\"\n",
    "response = requests.post(url).json()\n",
    "\n",
    "sido_cd = []\n",
    "sido_nm = []"
   ]
  },
  {
   "cell_type": "code",
   "execution_count": null,
   "id": "1b367c3f",
   "metadata": {},
   "outputs": [],
   "source": [
    "# 시도 종류를 찾아주는 함수\n",
    "\"\"\"\n",
    "나중에 DB까지 만든다고 하면 함수 부분은 만드는게 좋을까? 아니면 그런게 상관없을까?\n",
    "고려해야하는 것 \n",
    "시간 / 효율성 / 유지보수 등\n",
    "\"\"\"\n",
    "\n",
    "def find_sido():\n",
    "\n",
    "    for i in range(response['list'].__len__()):\n",
    "        sido_nm.append(response['list'][i]['sido_nm'])\n",
    "        sido_cd.append(response['list'][i]['sido_cd'])\n",
    "\n",
    "    return sido_nm, sido_cd\n",
    "\n",
    "# 리스트를 딕셔너리 형태로 묶어주기\n",
    "sido_info = dict(zip(sido_cd, sido_nm))\n",
    "find_sido()"
   ]
  },
  {
   "cell_type": "code",
   "execution_count": 92,
   "id": "5b6d24cb",
   "metadata": {},
   "outputs": [
    {
     "data": {
      "text/plain": [
       "['01',\n",
       " '08',\n",
       " '02',\n",
       " '03',\n",
       " '04',\n",
       " '05',\n",
       " '06',\n",
       " '07',\n",
       " '09',\n",
       " '10',\n",
       " '11',\n",
       " '12',\n",
       " '13',\n",
       " '14',\n",
       " '15',\n",
       " '16',\n",
       " '17']"
      ]
     },
     "execution_count": 92,
     "metadata": {},
     "output_type": "execute_result"
    }
   ],
   "source": [
    "sido_cd"
   ]
  },
  {
   "cell_type": "code",
   "execution_count": 90,
   "id": "f92b22c1",
   "metadata": {},
   "outputs": [],
   "source": [
    "# 시별 구군 정보 가져오는 부분\n",
    "gugun_url = \"https://www.starbucks.co.kr/store/getGugunList.do\"\n",
    "\n",
    "payload = {\n",
    "    \"sido_cd\" : \"01\",\n",
    "    \"rndCod\" : \"WKM8RHPKRH\"\n",
    "}\n",
    "\n",
    "header = {\n",
    "    \"Accept\" : \"application/json, text/javascript, */*; q=0.01\",\n",
    "    \"Accept-Encoding\" : \"gzip, deflate, br, zstd\",\n",
    "    \"Accept-Language\" : \"ko-KR,ko;q=0.9,en-US;q=0.8,en;q=0.7\",\n",
    "    \"Connection\" : \"keep-alive\",\n",
    "    \"Content-Length\" : \"28\",\n",
    "    \"Content-Type\" : \"application/x-www-form-urlencoded; charset=UTF-8\",\n",
    "    \"Host\" : \"www.starbucks.co.kr\",\n",
    "    \"Sec-Fetch-Dest\" : \"empty\",\n",
    "    \"Sec-Fetch-Mode\" : \"cors\",\n",
    "    \"Sec-Fetch-Site\" : \"same-origin\",\n",
    "    \"User-Agent\" : \"Mozilla/5.0 (Windows NT 10.0; Win64; x64) AppleWebKit/537.36 (KHTML, like Gecko) Chrome/140.0.0.0 Safari/537.36\",\n",
    "    \"X-Requested-With\" : \"XMLHttpRequest\",\n",
    "    \"sec-ch-ua-mobile\" : \"?0\" \n",
    "}\n",
    "gugun_response = requests.post(gugun_url, data=payload ,headers= header).json()"
   ]
  },
  {
   "cell_type": "code",
   "execution_count": 102,
   "id": "64f3caa3",
   "metadata": {},
   "outputs": [
    {
     "data": {
      "text/plain": [
       "'0125'"
      ]
     },
     "execution_count": 102,
     "metadata": {},
     "output_type": "execute_result"
    }
   ],
   "source": [
    "gugun_response['list'][24]['gugun_cd']"
   ]
  },
  {
   "cell_type": "code",
   "execution_count": 78,
   "id": "6b3151e6",
   "metadata": {},
   "outputs": [],
   "source": [
    "gugun_cd = []\n",
    "gugun_nm = []\n",
    "\n",
    "for n in range(len(sido_cd)):\n",
    "    payload = {\n",
    "    \"sido_cd\" : f\"{sido_cd[n]}\",\n",
    "    \"rndCod\" : \"WKM8RHPKRH\"\n",
    "    }\n",
    "    \n",
    "    gugun_response = requests.post(gugun_url, data=payload ,headers= header).json()\n",
    "    \n",
    "    for i in range(gugun_response['list'].__len__()):\n",
    "        if gugun_response['list'][0]['gugun_cd'] not in(gugun_cd):\n",
    "            gugun_cd.append(gugun_response['list'][0]['gugun_cd'])\n",
    "        if gugun_response['list'][0]['gugun_nm'] not in(gugun_nm):\n",
    "            gugun_nm.append(gugun_response['list'][0]['gugun_nm'])"
   ]
  },
  {
   "cell_type": "code",
   "execution_count": 104,
   "id": "d032d06a",
   "metadata": {},
   "outputs": [
    {
     "data": {
      "text/plain": [
       "17"
      ]
     },
     "execution_count": 104,
     "metadata": {},
     "output_type": "execute_result"
    }
   ],
   "source": [
    "gugun_cd.__len__()"
   ]
  }
 ],
 "metadata": {
  "kernelspec": {
   "display_name": "base",
   "language": "python",
   "name": "python3"
  },
  "language_info": {
   "codemirror_mode": {
    "name": "ipython",
    "version": 3
   },
   "file_extension": ".py",
   "mimetype": "text/x-python",
   "name": "python",
   "nbconvert_exporter": "python",
   "pygments_lexer": "ipython3",
   "version": "3.11.5"
  }
 },
 "nbformat": 4,
 "nbformat_minor": 5
}
