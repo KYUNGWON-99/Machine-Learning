{
 "cells": [
  {
   "cell_type": "markdown",
   "id": "9185bb5f",
   "metadata": {},
   "source": [
    "**재귀함수**"
   ]
  },
  {
   "cell_type": "code",
   "execution_count": null,
   "id": "8d32e4da",
   "metadata": {},
   "outputs": [],
   "source": [
    "def solution (n):\n",
    "    \"\"\"\n",
    "    피보나치수열\n",
    "    재귀 함수를 사용하지 않고 저장 하는 것\n",
    "    n이 커지면 stack memory가 초과해 에러가 생긴다.\n",
    "    \"\"\"\n",
    "    # 1. 피보나치 수열의 2번쨰까지 미리 저장한다.\n",
    "    DP = [0, 1]\n",
    "\n",
    "    # 2. 0 or 1 일 때는 바로 위에 저장한 리스트에서 꺼내 쓴다.\n",
    "    if n == 0 or n == 1:\n",
    "        return DP[n]\n",
    "    \n",
    "    # 3. 2이상이 들어갈 때는 DP라는 리스트 안에 다음 수열의 값을 저장하며 나아간다. 그러고 마지막에 DP 리스트의 마지막 값을 출력한다.\n",
    "    else:\n",
    "        for i in range(2,n+1):\n",
    "            DP.append(DP[-2]+DP[-1])\n",
    "        return DP[-1]"
   ]
  },
  {
   "cell_type": "markdown",
   "id": "b1ab274b",
   "metadata": {},
   "source": [
    "**미로 찾기 문제**"
   ]
  },
  {
   "cell_type": "code",
   "execution_count": null,
   "id": "668fc779",
   "metadata": {},
   "outputs": [],
   "source": [
    "from collections import deque\n",
    "\n",
    "def find_shortest_path(start, end, map_data):\n",
    "    \"\"\"\n",
    "    미로에서 시작점에서 끝점까지의 최단 거리를 BFS로 탐색합니다.\n",
    "\n",
    "    Args:\n",
    "        start (list): 시작 좌표 [start_x, start_y]\n",
    "        end (list): 도착 좌표 [end_x, end_y]\n",
    "        map_data (list of list): 미로 맵 (0: 길, 1: 벽)\n",
    "\n",
    "    Returns:\n",
    "        int or str: 최단 거리 (정수) 또는 경로가 없으면 \"cannot\"\n",
    "    \"\"\"\n",
    "    \n",
    "    # 맵의 크기\n",
    "    H, W = len(map_data), len(map_data[0])\n",
    "    \n",
    "    # 큐: (x, y) 좌표를 저장\n",
    "    queue = deque([tuple(start)])\n",
    "    \n",
    "    # 거리 딕셔너리: { (x, y): distance } 형태로 저장\n",
    "    distance = {tuple(start): 0}\n",
    "    \n",
    "    # 상하좌우 이동 방향\n",
    "    # (dx, dy) : (위, 아래, 왼쪽, 오른쪽)\n",
    "    directions = [(-1, 0), (1, 0), (0, -1), (0, 1)]\n",
    "\n",
    "    while queue:\n",
    "        # 현재 위치를 큐에서 꺼냅니다. (BFS의 핵심)\n",
    "        now_x, now_y = queue.popleft()\n",
    "        \n",
    "        # 도착점에 도달했는지 확인\n",
    "        if [now_x, now_y] == end:\n",
    "            return distance[(now_x, now_y)]\n",
    "\n",
    "        # 상하좌우로 이동하며 다음 위치를 탐색합니다.\n",
    "        for dx, dy in directions:\n",
    "            next_x, next_y = now_x + dx, now_y + dy\n",
    "            next_pos = (next_x, next_y)\n",
    "\n",
    "            # 1. 맵 경계 확인\n",
    "            if 0 <= next_x < H and 0 <= next_y < W:\n",
    "                # 2. 벽(1)이 아닌지 확인\n",
    "                if map_data[next_x][next_y] == 0:\n",
    "                    # 3. 이미 방문했는지 확인 (distance에 없어야 최단 경로를 보장)\n",
    "                    if next_pos not in distance:\n",
    "                        # 다음 위치를 큐에 추가\n",
    "                        queue.append(next_pos)\n",
    "                        # 거리 업데이트\n",
    "                        distance[next_pos] = distance[(now_x, now_y)] + 1\n",
    "\n",
    "    # 큐가 비워질 때까지 도착점에 도달하지 못했다면\n",
    "    return \"cannot\"\n"
   ]
  },
  {
   "cell_type": "markdown",
   "id": "f1c10161",
   "metadata": {},
   "source": [
    "***안전지대 찾기***"
   ]
  },
  {
   "cell_type": "code",
   "execution_count": 52,
   "id": "78aef24b",
   "metadata": {},
   "outputs": [],
   "source": [
    "def solution(board):\n",
    "\n",
    "    n = len(board)\n",
    "    danger = set()\n",
    "\n",
    "    for i, row in enumerate(board):\n",
    "        for j, x in enumerate(row):\n",
    "\n",
    "            if not x: continue\n",
    "\n",
    "            danger.update((i+di, j+dj) for di in [-1,0,1] for dj in [-1, 0, 1])\n",
    "\n",
    "    return n*n - sum(0 <= i < n and 0 <= j < n for i, j in danger)"
   ]
  },
  {
   "cell_type": "markdown",
   "id": "1e388a2d",
   "metadata": {},
   "source": [
    "**소수 찾기**"
   ]
  },
  {
   "cell_type": "code",
   "execution_count": 4,
   "id": "0bb4b944",
   "metadata": {},
   "outputs": [],
   "source": [
    "def Isprime(number):\n",
    "    if number == 1: return False\n",
    "    for num in range(2, int(number**1/2)+1):\n",
    "        if number / 2 == 0: return False\n",
    "        return True"
   ]
  },
  {
   "cell_type": "markdown",
   "id": "1605d29f",
   "metadata": {},
   "source": [
    "**중복된 수 찾기**"
   ]
  },
  {
   "cell_type": "code",
   "execution_count": 29,
   "id": "9798593b",
   "metadata": {},
   "outputs": [
    {
     "name": "stdout",
     "output_type": "stream",
     "text": [
      "set 형식의 {1, 2, 3}\n",
      "list 형식의 [1, 2, 3]\n",
      "{'apple': 2, 'banana': 3, 'tomato': 3}\n"
     ]
    }
   ],
   "source": [
    "# 1. set 함수 사용하기\n",
    "a = [1,2,3,3,3]\n",
    "set_a = set(a)\n",
    "list_a = list(set_a)\n",
    "print(f\"set 형식의 {set_a}\")\n",
    "print(f\"list 형식의 {list_a}\")\n",
    "\n",
    "# 2. 특수한 형태일 때는 split을 활용할 수도 있다.\n",
    "b = [\"apple_1\",\"apple_2\",\"banana_3\",\"banana_4\",\"banana_5\",\"tomato_6\",\"tomato_7\",\"tomato_8\"]\n",
    "answer = {}\n",
    "for s in b:\n",
    "    if s.split(\"_\")[0] not in answer:\n",
    "        answer[s.split(\"_\")[0]] = 1\n",
    "    else:\n",
    "        answer[s.split(\"_\")[0]] += 1\n",
    "print(answer)"
   ]
  },
  {
   "cell_type": "markdown",
   "id": "ccffe9fc",
   "metadata": {},
   "source": [
    "***Queue***\n",
    "*대상 문제의 종류*\n",
    "1. 긴 파이프를 통과하는 변수들\n",
    "2. 모인 변수가 특정 조건마다 한 번에 쏟아져 나오 때\n",
    "3. 좌표(미로찾기 / 블록)"
   ]
  },
  {
   "cell_type": "code",
   "execution_count": 48,
   "id": "40b7a8be",
   "metadata": {},
   "outputs": [],
   "source": [
    "# 2. 모인 변수가 특정 조건머다 한 번에 쏟아져 나올 때\n",
    "\"\"\"\n",
    "사우나에 사람들이 있다.\n",
    "각 사람들이 일렬로 앉아있다.\n",
    "각 사람들은 자존심 때문에 시간이 지남에 따라 인내심이 음수로 떨어지더라도 문과 가까운 사람이 나가지 않으면 나가지 않는다.\n",
    "1분당 사람들의 인내심은 10씩 내려간다.\n",
    "문 앞에 있는 사람의 인내심이 음수가 되어서 나갈 때 붙어 있으며 인내심이 음수인 사람들은 같이 나간다.\n",
    "문을 열고 나간 뒤에는 시원한 바람 덕분에 사우나 안에 있는 사람은 인내심이 20씩 올라간다.\n",
    "안에 있는 모든 사람이 나가는데 걸리는 시간을 얼마인가?`\n",
    "\"\"\"\n",
    "def Queue(people):\n",
    "    answer = 0\n",
    "\n",
    "    while people != []:\n",
    "        p0 = people[0]\n",
    "        minute = p0 // 10 + 1\n",
    "\n",
    "        for person in range(len(people)):\n",
    "            people[person] -= 10*minute\n",
    "\n",
    "        while people != [] and people[0] < 0:\n",
    "            people.pop(0)\n",
    "\n",
    "        if people != []:\n",
    "            people[0] += 20\n",
    "\n",
    "        answer += minute\n",
    "    return answer"
   ]
  },
  {
   "cell_type": "markdown",
   "id": "5821f59f",
   "metadata": {},
   "source": [
    "***리스트 안에 값들의 최빈값 구하기***"
   ]
  },
  {
   "cell_type": "code",
   "execution_count": 51,
   "id": "cdcf094f",
   "metadata": {},
   "outputs": [],
   "source": [
    "def most_many(array):\n",
    "    answer = {}\n",
    "    number = []\n",
    "    for num in array:\n",
    "        if num not in answer:\n",
    "            answer[num] = 1\n",
    "        else:\n",
    "            answer[num] += 1\n",
    "    \n",
    "    max_count = max(answer.values())\n",
    "    \n",
    "    for n, f in answer.items():\n",
    "        if f == max_count:\n",
    "            number.append(n)\n",
    "    \n",
    "    if len(number) == 1:\n",
    "        return number[0]\n",
    "    else:\n",
    "        return -1"
   ]
  },
  {
   "cell_type": "markdown",
   "id": "6677db04",
   "metadata": {},
   "source": [
    "***연속된 수의 합***"
   ]
  },
  {
   "cell_type": "code",
   "execution_count": null,
   "id": "603ceb4c",
   "metadata": {},
   "outputs": [],
   "source": [
    "def solution(num, total):\n",
    "    # 3+4+5 = 12\n",
    "    # 3*2/2 = 3\n",
    "    # 1+2+3+4 =10  == 5 * 4 / 2\n",
    "    # \n",
    "    # 1. 1부터 (num - 1)까지의 합을 계산합니다.\n",
    "    # 이는 'num-1'까지의 등차수열 합 공식: n*(n+1)/2 입니다.\n",
    "    # 여기서 n = num - 1 이므로, (num - 1) * num / 2 입니다.\n",
    "    sum_of_differences = num * (num - 1) // 2\n",
    "    \n",
    "    # (12 - 3) / 3 = 3\n",
    "    start_number = (total - sum_of_differences) // num\n",
    "    \n",
    "    # 3. 첫 번째 정수부터 num개만큼 배열을 생성합니다.\n",
    "    # range(시작, 끝(미포함))를 이용해 리스트를 만듭니다.\n",
    "    # [start_number, start_number + 1, ..., start_number + num - 1]\n",
    "    result_array = list(range(start_number, start_number + num))\n",
    "    \n",
    "    return result_array"
   ]
  },
  {
   "cell_type": "markdown",
   "id": "1b3ea74a",
   "metadata": {},
   "source": [
    "***옹알이***"
   ]
  },
  {
   "cell_type": "code",
   "execution_count": null,
   "id": "221396c1",
   "metadata": {},
   "outputs": [],
   "source": [
    "from itertools import permutations\n",
    "def solution(babbling):\n",
    "    answer = 0\n",
    "    words = [\"aya\", \"ye\", \"woo\", \"ma\"]\n",
    "    \n",
    "    # 중복을 없애기 위하여 set을 사용\n",
    "    speakable_words = set()\n",
    "    \n",
    "    for r in range(1, len(words) + 1):\n",
    "        for perm in permutations(words, r):\n",
    "            combined_word = \"\".join(perm)\n",
    "            speakable_words.add(combined_word)\n",
    "    \n",
    "    for talk in babbling:\n",
    "        if talk in speakable_words:\n",
    "            answer += 1\n",
    "            \n",
    "        else:\n",
    "            continue\n",
    "    \n",
    "    return answer"
   ]
  },
  {
   "cell_type": "markdown",
   "id": "51c77a6d",
   "metadata": {},
   "source": [
    "***리스트 비교 하기***"
   ]
  },
  {
   "cell_type": "code",
   "execution_count": 54,
   "id": "f2e0450f",
   "metadata": {},
   "outputs": [],
   "source": [
    "from collections import Counter\n",
    "\n",
    "def solution(participant, completion):\n",
    "    \n",
    "    answer = Counter(participant) - Counter(completion)\n",
    "    print(Counter(participant))\n",
    "    return list(answer.keys())[0]"
   ]
  },
  {
   "cell_type": "markdown",
   "id": "34f0a244",
   "metadata": {},
   "source": [
    "***접두사 확인하기***"
   ]
  },
  {
   "cell_type": "code",
   "execution_count": 55,
   "id": "e26eeacd",
   "metadata": {},
   "outputs": [],
   "source": [
    "def solution(phone_book):\n",
    "    phone_book.sort()\n",
    "\n",
    "    for i in range(len(phone_book) - 1):        \n",
    "        current_num = phone_book[i]\n",
    "        next_num = phone_book[i+1]\n",
    "\n",
    "        if next_num.startswith(current_num):\n",
    "            return False\n",
    "            \n",
    "    return True"
   ]
  },
  {
   "cell_type": "markdown",
   "id": "22c9d294",
   "metadata": {},
   "source": [
    "***의상 고르기***"
   ]
  },
  {
   "cell_type": "code",
   "execution_count": 56,
   "id": "784d75a9",
   "metadata": {},
   "outputs": [],
   "source": [
    "from collections import Counter\n",
    "import math\n",
    "\n",
    "def solution(clothes):\n",
    "    type_counts = Counter([kind for name, kind in clothes])\n",
    "    total_combinations = 1\n",
    "\n",
    "    for count in type_counts.values():\n",
    "        total_combinations *= (count + 1)\n",
    "        \n",
    "    answer = total_combinations - 1\n",
    "    \n",
    "    return answer"
   ]
  }
 ],
 "metadata": {
  "kernelspec": {
   "display_name": "Python 3",
   "language": "python",
   "name": "python3"
  },
  "language_info": {
   "codemirror_mode": {
    "name": "ipython",
    "version": 3
   },
   "file_extension": ".py",
   "mimetype": "text/x-python",
   "name": "python",
   "nbconvert_exporter": "python",
   "pygments_lexer": "ipython3",
   "version": "3.13.0"
  }
 },
 "nbformat": 4,
 "nbformat_minor": 5
}
